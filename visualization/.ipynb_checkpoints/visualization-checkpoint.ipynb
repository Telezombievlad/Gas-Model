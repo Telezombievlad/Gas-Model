{
 "cells": [
  {
   "cell_type": "markdown",
   "metadata": {},
   "source": [
    "Since I have no idea how you are storing the data - here is just shit tons of ways you can animate and load your data points from c++"
   ]
  },
  {
   "cell_type": "code",
   "execution_count": null,
   "metadata": {},
   "outputs": [],
   "source": [
    "# Install OpenGL\n",
    "!sudo apt-get install libglu1-mesa-dev freeglut3-dev mesa-common-dev\n",
    "\n",
    "# Install VisPy\n",
    "!pip install --upgrade vispy"
   ]
  },
  {
   "cell_type": "markdown",
   "metadata": {},
   "source": [
    "# Generate some random data"
   ]
  },
  {
   "cell_type": "code",
   "execution_count": null,
   "metadata": {},
   "outputs": [],
   "source": [
    "import sys\n",
    "sys.path.append(\"/home/vladik/.local/lib/python3.6\")\n",
    "print(sys.path)"
   ]
  },
  {
   "cell_type": "code",
   "execution_count": 2,
   "metadata": {},
   "outputs": [],
   "source": [
    "import numpy as np\n",
    "from vispy import scene"
   ]
  },
  {
   "cell_type": "code",
   "execution_count": 3,
   "metadata": {},
   "outputs": [],
   "source": [
    "points = np.random.randint(-100, 100, [1000, 3]).astype(np.float64)\n",
    "colors = np.random.random(1000)"
   ]
  },
  {
   "cell_type": "code",
   "execution_count": 4,
   "metadata": {},
   "outputs": [],
   "source": [
    "FPS = 20\n",
    "\n",
    "frames = [points.copy()]\n",
    "color_frame = [colors.copy()]\n",
    "\n",
    "for _ in range(FPS * 10):\n",
    "    add = np.random.randn(1000, 3)\n",
    "    points += add\n",
    "    \n",
    "    frames.append(points.copy())\n",
    "    colors += 0.01\n",
    "    color_frame.append(colors.copy())\n",
    "    \n",
    "frames = np.array(frames)\n",
    "color_frame = np.array(color_frame)"
   ]
  },
  {
   "cell_type": "code",
   "execution_count": 5,
   "metadata": {},
   "outputs": [],
   "source": [
    "frames.dump('test_frames.npy')\n",
    "color_frame.dump('test_color.npy')"
   ]
  },
  {
   "cell_type": "markdown",
   "metadata": {},
   "source": [
    "# Molecules visulization"
   ]
  },
  {
   "cell_type": "code",
   "execution_count": 6,
   "metadata": {},
   "outputs": [
    {
     "name": "stdout",
     "output_type": "stream",
     "text": [
      "Overwriting mol_vis.py\n"
     ]
    }
   ],
   "source": [
    "%%file mol_vis.py\n",
    "\n",
    "import sys\n",
    "\n",
    "import vispy\n",
    "from vispy import scene\n",
    "import numpy as np\n",
    "\n",
    "\n",
    "class Updater:\n",
    "    def __init__(self, frames, colors, points, cm):\n",
    "        self.frames = frames\n",
    "        self.colors = colors\n",
    "        self.points = points\n",
    "        self.cm = cm\n",
    "        self.i = 1\n",
    "        \n",
    "    def update(self, ev):\n",
    "        self.points.set_data(self.frames[self.i], face_color=self.cm.map(self.colors[self.i]))\n",
    "        self.i += 1\n",
    "        \n",
    "if __name__ == '__main__':\n",
    "    \n",
    "    FPS = 20\n",
    "    frames_path = 'test_frames.npy'\n",
    "    color_path = 'test_color.npy'\n",
    "    real_time = True\n",
    "    output_file = 'out.mp4'\n",
    "    rotate_angle = 3.\n",
    "\n",
    "    \n",
    "    # Load and transform data\n",
    "    \n",
    "    frames = np.load( frames_path )\n",
    "    colors = np.load( color_path )\n",
    "    \n",
    "    colors /= colors.max()\n",
    "    cm = vispy.color.Colormap(['yellow', 'orange', 'red'], [0, 0.5, 1])\n",
    "    \n",
    "    \n",
    "    # Bureaucracy\n",
    "    \n",
    "    win = scene.SceneCanvas(keys='interactive',\n",
    "                            size=(800, 800), show=True, bgcolor='white')\n",
    "    \n",
    "    \n",
    "    view = win.central_widget.add_view()\n",
    "    view.camera = 'arcball'\n",
    "    \n",
    "    coor_rang = np.abs(frames).max() * 1.3\n",
    "    view.camera.set_range(x=[-coor_rang, coor_rang], y=[-coor_rang, coor_rang], z=[-coor_rang, coor_rang])\n",
    "    \n",
    "    \n",
    "    # Real thing\n",
    "    \n",
    "    molecules = scene.visuals.Markers(parent=view.scene)\n",
    "    molecules.set_data(frames[0], face_color=cm.map(colors[0]))\n",
    "    \n",
    "    borders = scene.visuals.Cube((100, 100, 100), color=[0.1, 0.1, 0.1, 0.3],\n",
    "                               edge_color='black', parent=view.scene)\n",
    "    \n",
    "        \n",
    "    ## Interactive animation\n",
    "    if real_time:\n",
    "        \n",
    "        molecules.events.update.connect(lambda evt: win.update)\n",
    "        \n",
    "        upd = Updater(frames, colors, molecules, cm)\n",
    "        \n",
    "        timer = vispy.app.Timer()\n",
    "        timer.connect(upd.update)\n",
    "        timer.start(interval=1/FPS)\n",
    "        \n",
    "        if sys.flags.interactive != 1:\n",
    "            vispy.app.run()\n",
    "    \n",
    "    ## Video creation\n",
    "    else:\n",
    "        import imageio\n",
    "        \n",
    "        writer = imageio.get_writer(output_file, fps=FPS)\n",
    "        \n",
    "        axis = [0, 0, 1]\n",
    "\n",
    "        for i in range(1, frames.shape[0]):\n",
    "            im = win.render()\n",
    "            writer.append_data(im)\n",
    "            \n",
    "            view.camera.transform.rotate(rotate_angle, axis)\n",
    "            \n",
    "            molecules.set_data(frames[i], face_color=cm.map(colors[i]))\n",
    "            \n",
    "        writer.close()\n"
   ]
  },
  {
   "cell_type": "code",
   "execution_count": 7,
   "metadata": {},
   "outputs": [
    {
     "name": "stdout",
     "output_type": "stream",
     "text": [
      "Overwriting line.py\n"
     ]
    }
   ],
   "source": [
    "%%file line.py\n",
    "\n",
    "import numpy as np\n",
    "import vispy.app\n",
    "from vispy import scene\n",
    "from vispy.scene import visuals\n",
    "\n",
    "# vertex positions of data to draw\n",
    "N = 200\n",
    "pos = np.zeros((N, 2), dtype=np.float32)\n",
    "pos[:, 0] = np.linspace(50., 750., N)\n",
    "pos[:, 1] = np.random.normal(size=N, scale=100, loc=400)\n",
    "\n",
    "# color array\n",
    "color = np.ones((N, 4), dtype=np.float32)\n",
    "color[:, 0] = np.linspace(0, 1, N)\n",
    "color[:, 1] = color[::-1, 0]\n",
    "\n",
    "\n",
    "if __name__ == '__main__':\n",
    "    win = scene.SceneCanvas(keys='interactive',\n",
    "                            size=(800, 800), show=True)\n",
    "    \n",
    "    line = visuals.Line(pos, color, parent=win.scene)\n",
    "    line.events.update.connect(lambda evt: win.update)\n",
    "    \n",
    "    def update(ev):\n",
    "        pos[:, 1] = np.random.normal(size=N, scale=100, loc=400)\n",
    "        line.set_data(pos=pos)\n",
    "    \n",
    "    FPS = 30\n",
    "    \n",
    "    timer = vispy.app.Timer()\n",
    "    timer.connect(update)\n",
    "    timer.start(interval=1/FPS)\n",
    "\n",
    "    import sys\n",
    "    if sys.flags.interactive != 1:\n",
    "        vispy.app.run()"
   ]
  },
  {
   "cell_type": "code",
   "execution_count": null,
   "metadata": {},
   "outputs": [],
   "source": []
  },
  {
   "cell_type": "code",
   "execution_count": null,
   "metadata": {},
   "outputs": [],
   "source": []
  }
 ],
 "metadata": {
  "kernelspec": {
   "display_name": "Python 3",
   "language": "python",
   "name": "python3"
  },
  "language_info": {
   "codemirror_mode": {
    "name": "ipython",
    "version": 3
   },
   "file_extension": ".py",
   "mimetype": "text/x-python",
   "name": "python",
   "nbconvert_exporter": "python",
   "pygments_lexer": "ipython3",
   "version": "3.6.7"
  }
 },
 "nbformat": 4,
 "nbformat_minor": 2
}
